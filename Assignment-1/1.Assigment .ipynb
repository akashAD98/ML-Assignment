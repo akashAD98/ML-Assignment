{
 "cells": [
  {
   "cell_type": "markdown",
   "metadata": {},
   "source": [
    "TASK 1"
   ]
  },
  {
   "cell_type": "markdown",
   "metadata": {},
   "source": [
    "Q2. Write a program which will find all such numbers which are divisible by 7 but are not mulltiple of 5 ,between\n",
    "2000 and 3200(both include).The number obtained should be printed in acomma-seprated sequence of single line"
   ]
  },
  {
   "cell_type": "code",
   "execution_count": 92,
   "metadata": {},
   "outputs": [
    {
     "name": "stdout",
     "output_type": "stream",
     "text": [
      "2002,2009,2016,2023,2037,2044,2051,2058,2072,2079,2086,2093,2107,2114,2121,2128,2142,2149,2156,2163,2177,2184,2191,2198,2212,2219,2226,2233,2247,2254,2261,2268,2282,2289,2296,2303,2317,2324,2331,2338,2352,2359,2366,2373,2387,2394,2401,2408,2422,2429,2436,2443,2457,2464,2471,2478,2492,2499,2506,2513,2527,2534,2541,2548,2562,2569,2576,2583,2597,2604,2611,2618,2632,2639,2646,2653,2667,2674,2681,2688,2702,2709,2716,2723,2737,2744,2751,2758,2772,2779,2786,2793,2807,2814,2821,2828,2842,2849,2856,2863,2877,2884,2891,2898,2912,2919,2926,2933,2947,2954,2961,2968,2982,2989,2996,3003,3017,3024,3031,3038,3052,3059,3066,3073,3087,3094,3101,3108,3122,3129,3136,3143,3157,3164,3171,3178,3192,3199\n"
     ]
    }
   ],
   "source": [
    "lists=[]\n",
    "for i in range(2000, 3201):\n",
    "    if (i%7==0) and (i%5!=0):\n",
    "        lists.append(str(i))\n",
    "\n",
    "print(','.join(lists))"
   ]
  },
  {
   "cell_type": "code",
   "execution_count": null,
   "metadata": {},
   "outputs": [],
   "source": []
  },
  {
   "cell_type": "markdown",
   "metadata": {},
   "source": [
    "Q3.Write a python program to accept the users first and last name & getting them printed in reverse order with space between first and last name"
   ]
  },
  {
   "cell_type": "code",
   "execution_count": 93,
   "metadata": {},
   "outputs": [
    {
     "name": "stdout",
     "output_type": "stream",
     "text": [
      "hellow\n",
      "whats your name ?\n",
      "\n",
      "Akash \n",
      "whats your last name?\n",
      "\n",
      "Desai\n",
      "iaseD  hsakA\n"
     ]
    }
   ],
   "source": [
    "print(\"hellow\")\n",
    "print(\"whats your name ?\")\n",
    "myName=input('\\n')\n",
    "print(\"whats your last name?\")\n",
    "lastName=input('\\n')\n",
    "\n",
    "c=myName + \" \" + lastName\n",
    "print(c[::-1])\n"
   ]
  },
  {
   "cell_type": "markdown",
   "metadata": {},
   "source": [
    "OR second method"
   ]
  },
  {
   "cell_type": "code",
   "execution_count": 94,
   "metadata": {},
   "outputs": [
    {
     "name": "stdout",
     "output_type": "stream",
     "text": [
      "whats your name ?\n",
      "\n",
      "akki\n",
      "whats your last name?\n",
      "\n",
      "desaii\n",
      "desaii akki\n"
     ]
    }
   ],
   "source": [
    "print(\"whats your name ?\")\n",
    "myName=input('\\n')\n",
    "print(\"whats your last name?\")\n",
    "lastName=input('\\n')\n",
    "\n",
    "c= lastName + \" \" + myName\n",
    "print(c)"
   ]
  },
  {
   "cell_type": "markdown",
   "metadata": {},
   "source": [
    "Q4.Write the python program to find volime of sphere with diameter=12cm.\n",
    "#Formula: V=4/3*pi*r^3"
   ]
  },
  {
   "cell_type": "code",
   "execution_count": 95,
   "metadata": {},
   "outputs": [
    {
     "name": "stdout",
     "output_type": "stream",
     "text": [
      "904.3199999999999\n"
     ]
    }
   ],
   "source": [
    "pi=3.14\n",
    "r=6\n",
    "v=4.0/3.0*pi* r**3\n",
    "print(v)               #diameter=12cm so Radius=6cm"
   ]
  },
  {
   "cell_type": "markdown",
   "metadata": {},
   "source": [
    "TASK2"
   ]
  },
  {
   "cell_type": "markdown",
   "metadata": {},
   "source": [
    "Q1.Write a program which accepts a sequence of comma-seprated numbers from console and genrate a list"
   ]
  },
  {
   "cell_type": "code",
   "execution_count": 96,
   "metadata": {},
   "outputs": [
    {
     "name": "stdout",
     "output_type": "stream",
     "text": [
      "enter comma seprate no:4,6,8,6\n",
      "list is ['4', '6', '8', '6']\n",
      "converted list is [4, 6, 8, 6]\n"
     ]
    }
   ],
   "source": [
    "m=[]\n",
    "s=input(\"enter comma seprate no:\")\n",
    "list=s.split(\",\")\n",
    "print(\"list is\",list)\n",
    "for i in list:\n",
    "    m.append(int(i))\n",
    "print(\"converted list is\",m)"
   ]
  },
  {
   "cell_type": "code",
   "execution_count": null,
   "metadata": {},
   "outputs": [],
   "source": []
  },
  {
   "cell_type": "markdown",
   "metadata": {},
   "source": [
    "Q.2 Create the below pattern using nested for loop in python."
   ]
  },
  {
   "cell_type": "code",
   "execution_count": 97,
   "metadata": {},
   "outputs": [
    {
     "name": "stdout",
     "output_type": "stream",
     "text": [
      "enter no:6\n",
      "*  \n",
      "* *  \n",
      "* * *  \n",
      "* * * *  \n",
      "* * * * *  \n",
      "* * * *  \n",
      "* * *  \n",
      "* *  \n",
      "*  \n"
     ]
    }
   ],
   "source": [
    "num=int(input(\"enter no:\"))\n",
    "for i in range(1,num):\n",
    "    for j in range(i):\n",
    "        print(\"*\",end=(\" \"))\n",
    "    print(\" \")\n",
    "for i in range(j,0,-1):\n",
    "    for j in range(i):\n",
    "        print(\"*\",end=\" \")\n",
    "    print(\" \")\n",
    "    "
   ]
  },
  {
   "cell_type": "markdown",
   "metadata": {},
   "source": [
    "Q3.Write a python program to reverse a world after accepting the input from user"
   ]
  },
  {
   "cell_type": "code",
   "execution_count": 98,
   "metadata": {},
   "outputs": [
    {
     "name": "stdout",
     "output_type": "stream",
     "text": [
      "plese enter any word : ineuron\n"
     ]
    },
    {
     "data": {
      "text/plain": [
       "'norueni'"
      ]
     },
     "execution_count": 98,
     "metadata": {},
     "output_type": "execute_result"
    }
   ],
   "source": [
    "word=input(\"plese enter any word : \")\n",
    "word[::-1]"
   ]
  },
  {
   "cell_type": "markdown",
   "metadata": {},
   "source": [
    "Q4.  \n",
    " Write a Python Program to print the given string in the format specified in the ​sample output. \n",
    " WE, THE PEOPLE OF INDIA, having solemnly resolved to constitute India into a SOVEREIGN, SOCIALIST, SECULAR, DEMOCRATIC REPUBLIC and to secure to all its citizens \n",
    " \n",
    "Sample Output: \n",
    " \n",
    "WE, THE PEOPLE OF INDIA,\n",
    "\n",
    "      having solemnly resolved to constitute India into a SOVEREIGN, !\n",
    "             SOCIALIST, SECULAR, DEMOCRATIC REPUBLIC    \n",
    "              and to secure to all its citizens "
   ]
  },
  {
   "cell_type": "code",
   "execution_count": 99,
   "metadata": {},
   "outputs": [
    {
     "name": "stdout",
     "output_type": "stream",
     "text": [
      "WE, THE PEOPLE OF INDIA,\n",
      "      having solemnly resolved to constitute India into a SOVEREIGN,! \n",
      " \t     SOCIALIST, SECULAR, DEMOCRATIC REPUBLIC \n",
      " \t      and to secure to all its citizens \n"
     ]
    }
   ],
   "source": [
    "a=\"WE, THE PEOPLE OF INDIA,\\n      having solemnly resolved to constitute India into a SOVEREIGN,! \\n \\t     SOCIALIST, SECULAR, DEMOCRATIC REPUBLIC \\n \\t      and to secure to all its citizens \"\n",
    "print(a)"
   ]
  },
  {
   "cell_type": "code",
   "execution_count": null,
   "metadata": {},
   "outputs": [],
   "source": []
  },
  {
   "cell_type": "code",
   "execution_count": null,
   "metadata": {},
   "outputs": [],
   "source": []
  }
 ],
 "metadata": {
  "kernelspec": {
   "display_name": "Python 3",
   "language": "python",
   "name": "python3"
  },
  "language_info": {
   "codemirror_mode": {
    "name": "ipython",
    "version": 3
   },
   "file_extension": ".py",
   "mimetype": "text/x-python",
   "name": "python",
   "nbconvert_exporter": "python",
   "pygments_lexer": "ipython3",
   "version": "3.7.4"
  }
 },
 "nbformat": 4,
 "nbformat_minor": 2
}
